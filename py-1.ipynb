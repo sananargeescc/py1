{
  "nbformat": 4,
  "nbformat_minor": 0,
  "metadata": {
    "colab": {
      "provenance": []
    },
    "kernelspec": {
      "name": "python3",
      "display_name": "Python 3"
    },
    "language_info": {
      "name": "python"
    }
  },
  "cells": [
    {
      "cell_type": "code",
      "execution_count": null,
      "metadata": {
        "colab": {
          "base_uri": "https://localhost:8080/"
        },
        "id": "ep_RU_yDE12N",
        "outputId": "03017f2f-082e-4779-8099-a8c07c0cb024"
      },
      "outputs": [
        {
          "output_type": "stream",
          "name": "stdout",
          "text": [
            "<class 'set'>\n",
            "{'hello', 'hai', 'hi', 'how'}\n"
          ]
        }
      ],
      "source": [
        "a={\"hai\",\"hello\",\"hi\"}\n",
        "print(type(a))\n",
        "a.add(\"how\")\n",
        "print(a)"
      ]
    },
    {
      "cell_type": "code",
      "source": [
        "b={\"a\",\"b\",\"c\"}\n",
        "b.update([\"d\",\"e\",\"f\",\"a\"])\n",
        "print(b)"
      ],
      "metadata": {
        "colab": {
          "base_uri": "https://localhost:8080/"
        },
        "id": "lyJO4eIwHrAw",
        "outputId": "1e4e5fee-5b40-42b2-ff54-20643140b684"
      },
      "execution_count": null,
      "outputs": [
        {
          "output_type": "stream",
          "name": "stdout",
          "text": [
            "{'b', 'e', 'a', 'f', 'c', 'd'}\n"
          ]
        }
      ]
    },
    {
      "cell_type": "code",
      "source": [
        "b={\"a\",\"b\",\"c\",\"d\"}\n",
        "b.remove(\"c\")\n",
        "print(b)"
      ],
      "metadata": {
        "colab": {
          "base_uri": "https://localhost:8080/"
        },
        "id": "Hi50OhgaI6Me",
        "outputId": "f53d3c8c-2e77-48f1-d692-e82a284637b7"
      },
      "execution_count": null,
      "outputs": [
        {
          "output_type": "stream",
          "name": "stdout",
          "text": [
            "{'b', 'd', 'a'}\n"
          ]
        }
      ]
    },
    {
      "cell_type": "code",
      "source": [
        "a={\"a\",\"b\",\"c\"}\n",
        "b={\"d\",\"e\",\"f\"}\n",
        "c=a.union(b)\n",
        "print(c)\n"
      ],
      "metadata": {
        "colab": {
          "base_uri": "https://localhost:8080/"
        },
        "id": "8uU_-fP5Jbjp",
        "outputId": "0af33e73-2739-43df-f51f-2117b202a8a2"
      },
      "execution_count": null,
      "outputs": [
        {
          "output_type": "stream",
          "name": "stdout",
          "text": [
            "{'b', 'e', 'a', 'd', 'f', 'c'}\n"
          ]
        }
      ]
    },
    {
      "cell_type": "code",
      "source": [
        "a={\"tea\":20,\"cake\":40,\"sandwich\":30}\n",
        "item1=int(input(\"how many tea:\"))\n",
        "item2=int(input(\"how many cake:\"))\n",
        "item3=int(input(\"how many sandwich:\"))\n",
        "t=item1*(a[\"tea\"])\n",
        "c=item2*(a[\"cake\"])\n",
        "s=item3*(a[\"sandwich\"])\n",
        "bill=t+c+s\n",
        "print(\"total bill:\",bill)\n"
      ],
      "metadata": {
        "colab": {
          "base_uri": "https://localhost:8080/"
        },
        "id": "6jp7KkXIMNlf",
        "outputId": "2c5ab21a-fa07-4c1d-bb88-be4c8ebbcdbe"
      },
      "execution_count": null,
      "outputs": [
        {
          "output_type": "stream",
          "name": "stdout",
          "text": [
            "how many tea:2\n",
            "how many cake:0\n",
            "how many sandwich:1\n",
            "total bill: 70\n"
          ]
        }
      ]
    }
  ]
}